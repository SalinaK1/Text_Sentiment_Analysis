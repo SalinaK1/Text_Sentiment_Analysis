{
  "cells": [
    {
      "cell_type": "code",
      "execution_count": 1,
      "metadata": {
        "id": "sUlqLHFWrHwB"
      },
      "outputs": [],
      "source": [
        "import nltk\n",
        "import pandas as pd\n",
        "from nltk.corpus import stopwords\n",
        "from textblob import Word\n",
        "from sklearn.preprocessing import LabelEncoder\n",
        "from collections import Counter\n",
        "import wordcloud\n",
        "from sklearn.metrics import classification_report,confusion_matrix,accuracy_score\n",
        "from keras.models import Sequential\n",
        "from keras.preprocessing.text import Tokenizer\n",
        "from keras.preprocessing.sequence import pad_sequences\n",
        "from keras.layers import Dense, Embedding, LSTM, SpatialDropout1D\n",
        "from sklearn.model_selection import train_test_split \n",
        "import matplotlib.pyplot as plt"
      ]
    },
    {
      "cell_type": "code",
      "execution_count": 2,
      "metadata": {
        "id": "F9M6L2QPrsk1"
      },
      "outputs": [],
      "source": [
        "train = pd.read_csv('/content/training.csv')\n",
        "test = pd.read_csv('/content/test.csv')\n",
        "validation = pd.read_csv('/content/validation.csv')"
      ]
    },
    {
      "cell_type": "code",
      "execution_count": 3,
      "metadata": {
        "colab": {
          "base_uri": "https://localhost:8080/",
          "height": 424
        },
        "id": "WiNCLv4vrtCc",
        "outputId": "8d0f07e8-a553-4b74-eff0-cc6173a7411f"
      },
      "outputs": [
        {
          "output_type": "execute_result",
          "data": {
            "text/plain": [
              "                                                    text  label\n",
              "0                                i didnt feel humiliated    0.0\n",
              "1      i can go from feeling so hopeless to so damned...    0.0\n",
              "2       im grabbing a minute to post i feel greedy wrong    3.0\n",
              "3      i am ever feeling nostalgic about the fireplac...    2.0\n",
              "4                                   i am feeling grouchy    3.0\n",
              "...                                                  ...    ...\n",
              "10346  i guess ive heard enough over the two months b...    3.0\n",
              "10347  im sure they feel the more caring loving peopl...    2.0\n",
              "10348  i was feeling melty and miserable enough mysel...    0.0\n",
              "10349  i am energetically pursuing my goals or i feel...    3.0\n",
              "10350  i set up a consultation with a therapist last ...    NaN\n",
              "\n",
              "[10351 rows x 2 columns]"
            ],
            "text/html": [
              "\n",
              "  <div id=\"df-0a16eb5e-3b43-48d3-83b5-d0ca41ec12dc\">\n",
              "    <div class=\"colab-df-container\">\n",
              "      <div>\n",
              "<style scoped>\n",
              "    .dataframe tbody tr th:only-of-type {\n",
              "        vertical-align: middle;\n",
              "    }\n",
              "\n",
              "    .dataframe tbody tr th {\n",
              "        vertical-align: top;\n",
              "    }\n",
              "\n",
              "    .dataframe thead th {\n",
              "        text-align: right;\n",
              "    }\n",
              "</style>\n",
              "<table border=\"1\" class=\"dataframe\">\n",
              "  <thead>\n",
              "    <tr style=\"text-align: right;\">\n",
              "      <th></th>\n",
              "      <th>text</th>\n",
              "      <th>label</th>\n",
              "    </tr>\n",
              "  </thead>\n",
              "  <tbody>\n",
              "    <tr>\n",
              "      <th>0</th>\n",
              "      <td>i didnt feel humiliated</td>\n",
              "      <td>0.0</td>\n",
              "    </tr>\n",
              "    <tr>\n",
              "      <th>1</th>\n",
              "      <td>i can go from feeling so hopeless to so damned...</td>\n",
              "      <td>0.0</td>\n",
              "    </tr>\n",
              "    <tr>\n",
              "      <th>2</th>\n",
              "      <td>im grabbing a minute to post i feel greedy wrong</td>\n",
              "      <td>3.0</td>\n",
              "    </tr>\n",
              "    <tr>\n",
              "      <th>3</th>\n",
              "      <td>i am ever feeling nostalgic about the fireplac...</td>\n",
              "      <td>2.0</td>\n",
              "    </tr>\n",
              "    <tr>\n",
              "      <th>4</th>\n",
              "      <td>i am feeling grouchy</td>\n",
              "      <td>3.0</td>\n",
              "    </tr>\n",
              "    <tr>\n",
              "      <th>...</th>\n",
              "      <td>...</td>\n",
              "      <td>...</td>\n",
              "    </tr>\n",
              "    <tr>\n",
              "      <th>10346</th>\n",
              "      <td>i guess ive heard enough over the two months b...</td>\n",
              "      <td>3.0</td>\n",
              "    </tr>\n",
              "    <tr>\n",
              "      <th>10347</th>\n",
              "      <td>im sure they feel the more caring loving peopl...</td>\n",
              "      <td>2.0</td>\n",
              "    </tr>\n",
              "    <tr>\n",
              "      <th>10348</th>\n",
              "      <td>i was feeling melty and miserable enough mysel...</td>\n",
              "      <td>0.0</td>\n",
              "    </tr>\n",
              "    <tr>\n",
              "      <th>10349</th>\n",
              "      <td>i am energetically pursuing my goals or i feel...</td>\n",
              "      <td>3.0</td>\n",
              "    </tr>\n",
              "    <tr>\n",
              "      <th>10350</th>\n",
              "      <td>i set up a consultation with a therapist last ...</td>\n",
              "      <td>NaN</td>\n",
              "    </tr>\n",
              "  </tbody>\n",
              "</table>\n",
              "<p>10351 rows × 2 columns</p>\n",
              "</div>\n",
              "      <button class=\"colab-df-convert\" onclick=\"convertToInteractive('df-0a16eb5e-3b43-48d3-83b5-d0ca41ec12dc')\"\n",
              "              title=\"Convert this dataframe to an interactive table.\"\n",
              "              style=\"display:none;\">\n",
              "        \n",
              "  <svg xmlns=\"http://www.w3.org/2000/svg\" height=\"24px\"viewBox=\"0 0 24 24\"\n",
              "       width=\"24px\">\n",
              "    <path d=\"M0 0h24v24H0V0z\" fill=\"none\"/>\n",
              "    <path d=\"M18.56 5.44l.94 2.06.94-2.06 2.06-.94-2.06-.94-.94-2.06-.94 2.06-2.06.94zm-11 1L8.5 8.5l.94-2.06 2.06-.94-2.06-.94L8.5 2.5l-.94 2.06-2.06.94zm10 10l.94 2.06.94-2.06 2.06-.94-2.06-.94-.94-2.06-.94 2.06-2.06.94z\"/><path d=\"M17.41 7.96l-1.37-1.37c-.4-.4-.92-.59-1.43-.59-.52 0-1.04.2-1.43.59L10.3 9.45l-7.72 7.72c-.78.78-.78 2.05 0 2.83L4 21.41c.39.39.9.59 1.41.59.51 0 1.02-.2 1.41-.59l7.78-7.78 2.81-2.81c.8-.78.8-2.07 0-2.86zM5.41 20L4 18.59l7.72-7.72 1.47 1.35L5.41 20z\"/>\n",
              "  </svg>\n",
              "      </button>\n",
              "      \n",
              "  <style>\n",
              "    .colab-df-container {\n",
              "      display:flex;\n",
              "      flex-wrap:wrap;\n",
              "      gap: 12px;\n",
              "    }\n",
              "\n",
              "    .colab-df-convert {\n",
              "      background-color: #E8F0FE;\n",
              "      border: none;\n",
              "      border-radius: 50%;\n",
              "      cursor: pointer;\n",
              "      display: none;\n",
              "      fill: #1967D2;\n",
              "      height: 32px;\n",
              "      padding: 0 0 0 0;\n",
              "      width: 32px;\n",
              "    }\n",
              "\n",
              "    .colab-df-convert:hover {\n",
              "      background-color: #E2EBFA;\n",
              "      box-shadow: 0px 1px 2px rgba(60, 64, 67, 0.3), 0px 1px 3px 1px rgba(60, 64, 67, 0.15);\n",
              "      fill: #174EA6;\n",
              "    }\n",
              "\n",
              "    [theme=dark] .colab-df-convert {\n",
              "      background-color: #3B4455;\n",
              "      fill: #D2E3FC;\n",
              "    }\n",
              "\n",
              "    [theme=dark] .colab-df-convert:hover {\n",
              "      background-color: #434B5C;\n",
              "      box-shadow: 0px 1px 3px 1px rgba(0, 0, 0, 0.15);\n",
              "      filter: drop-shadow(0px 1px 2px rgba(0, 0, 0, 0.3));\n",
              "      fill: #FFFFFF;\n",
              "    }\n",
              "  </style>\n",
              "\n",
              "      <script>\n",
              "        const buttonEl =\n",
              "          document.querySelector('#df-0a16eb5e-3b43-48d3-83b5-d0ca41ec12dc button.colab-df-convert');\n",
              "        buttonEl.style.display =\n",
              "          google.colab.kernel.accessAllowed ? 'block' : 'none';\n",
              "\n",
              "        async function convertToInteractive(key) {\n",
              "          const element = document.querySelector('#df-0a16eb5e-3b43-48d3-83b5-d0ca41ec12dc');\n",
              "          const dataTable =\n",
              "            await google.colab.kernel.invokeFunction('convertToInteractive',\n",
              "                                                     [key], {});\n",
              "          if (!dataTable) return;\n",
              "\n",
              "          const docLinkHtml = 'Like what you see? Visit the ' +\n",
              "            '<a target=\"_blank\" href=https://colab.research.google.com/notebooks/data_table.ipynb>data table notebook</a>'\n",
              "            + ' to learn more about interactive tables.';\n",
              "          element.innerHTML = '';\n",
              "          dataTable['output_type'] = 'display_data';\n",
              "          await google.colab.output.renderOutput(dataTable, element);\n",
              "          const docLink = document.createElement('div');\n",
              "          docLink.innerHTML = docLinkHtml;\n",
              "          element.appendChild(docLink);\n",
              "        }\n",
              "      </script>\n",
              "    </div>\n",
              "  </div>\n",
              "  "
            ]
          },
          "metadata": {},
          "execution_count": 3
        }
      ],
      "source": [
        "train"
      ]
    },
    {
      "cell_type": "code",
      "execution_count": 3,
      "metadata": {
        "id": "TUK6Jv4ksshf"
      },
      "outputs": [],
      "source": []
    },
    {
      "cell_type": "code",
      "execution_count": 3,
      "metadata": {
        "id": "AZp4_rZzrtWc"
      },
      "outputs": [],
      "source": []
    },
    {
      "cell_type": "code",
      "execution_count": 4,
      "metadata": {
        "id": "8umidVn5rPj1"
      },
      "outputs": [],
      "source": [
        "tokenizer = Tokenizer() \n",
        "tokenizer.fit_on_texts(train['text'].values)\n",
        "X = tokenizer.texts_to_sequences(train['text'].values)\n",
        "vocab_size = len(tokenizer.word_index) + 1\n",
        "X = pad_sequences(X,maxlen=300)"
      ]
    },
    {
      "cell_type": "code",
      "execution_count": 5,
      "metadata": {
        "colab": {
          "base_uri": "https://localhost:8080/"
        },
        "id": "KlrMWTLPrbuA",
        "outputId": "9bd4b365-9c97-4b8f-e002-0c6eb7f3100d"
      },
      "outputs": [
        {
          "output_type": "stream",
          "name": "stdout",
          "text": [
            "Model: \"sequential\"\n",
            "_________________________________________________________________\n",
            " Layer (type)                Output Shape              Param #   \n",
            "=================================================================\n",
            " embedding (Embedding)       (None, 300, 32)           390176    \n",
            "                                                                 \n",
            " spatial_dropout1d (SpatialD  (None, 300, 32)          0         \n",
            " ropout1D)                                                       \n",
            "                                                                 \n",
            " lstm (LSTM)                 (None, 176)               147136    \n",
            "                                                                 \n",
            " dense (Dense)               (None, 6)                 1062      \n",
            "                                                                 \n",
            "=================================================================\n",
            "Total params: 538,374\n",
            "Trainable params: 538,374\n",
            "Non-trainable params: 0\n",
            "_________________________________________________________________\n",
            "None\n"
          ]
        }
      ],
      "source": [
        "model = Sequential()\n",
        "model.add(Embedding(vocab_size, 32, input_length = X.shape[1]))\n",
        "model.add(SpatialDropout1D(0.4))\n",
        "model.add(LSTM(176, dropout=0.2, recurrent_dropout=0.2))\n",
        "model.add(Dense(6,activation='softmax'))\n",
        "model.compile(loss = 'categorical_crossentropy', optimizer='adam', metrics = ['accuracy'])\n",
        "print(model.summary())"
      ]
    },
    {
      "cell_type": "code",
      "execution_count": 6,
      "metadata": {
        "id": "Bj-2ii_QrgjH"
      },
      "outputs": [],
      "source": [
        "y=pd.get_dummies(train['label'])\n",
        "X_train, X_test, y_train, y_test = train_test_split(X,y, test_size = 0.3)"
      ]
    },
    {
      "cell_type": "code",
      "execution_count": 7,
      "metadata": {
        "colab": {
          "base_uri": "https://localhost:8080/"
        },
        "id": "ydPXaNxmrkbq",
        "outputId": "5e5158be-e7a7-4773-e1bd-bf365cc9a695"
      },
      "outputs": [
        {
          "output_type": "stream",
          "name": "stdout",
          "text": [
            "Epoch 1/5\n",
            "227/227 [==============================] - 230s 997ms/step - loss: 1.5867 - accuracy: 0.3386\n",
            "Epoch 2/5\n",
            "227/227 [==============================] - 226s 995ms/step - loss: 1.2341 - accuracy: 0.5416\n",
            "Epoch 3/5\n",
            "227/227 [==============================] - 225s 992ms/step - loss: 0.6837 - accuracy: 0.7718\n",
            "Epoch 4/5\n",
            "227/227 [==============================] - 226s 995ms/step - loss: 0.4163 - accuracy: 0.8632\n",
            "Epoch 5/5\n",
            "227/227 [==============================] - 224s 987ms/step - loss: 0.2597 - accuracy: 0.9158\n"
          ]
        },
        {
          "output_type": "execute_result",
          "data": {
            "text/plain": [
              "<keras.callbacks.History at 0x7fade7c5fe50>"
            ]
          },
          "metadata": {},
          "execution_count": 7
        }
      ],
      "source": [
        "batch_size=32\n",
        "model.fit(X_train, y_train, epochs = 5, batch_size=batch_size, verbose = 'auto')"
      ]
    },
    {
      "cell_type": "code",
      "execution_count": 8,
      "metadata": {
        "id": "TrC88QpBrqKF",
        "colab": {
          "base_uri": "https://localhost:8080/"
        },
        "outputId": "2ddae752-b9b8-4eec-f949-5d74b572cd2f"
      },
      "outputs": [
        {
          "output_type": "stream",
          "name": "stdout",
          "text": [
            "98/98 [==============================] - 12s 120ms/step - loss: 0.3614 - accuracy: 0.8764\n"
          ]
        },
        {
          "output_type": "execute_result",
          "data": {
            "text/plain": [
              "[0.3614497482776642, 0.8763683438301086]"
            ]
          },
          "metadata": {},
          "execution_count": 8
        }
      ],
      "source": [
        "model.evaluate(X_test,y_test)"
      ]
    },
    {
      "cell_type": "code",
      "source": [
        "test_tokenizer = Tokenizer()\n",
        "test_tokenizer.fit_on_texts(validation[\"text\"])\n",
        "test_encoded_docs = test_tokenizer.texts_to_sequences(validation[\"text\"])\n",
        "test_padded_sequence = pad_sequences(test_encoded_docs, maxlen=300)\n",
        "\n",
        "test_sentiment_label = validation[\"label\"].factorize()\n",
        "y_t=pd.get_dummies(test['label'])\n",
        "test_sentiment_label[1]\n"
      ],
      "metadata": {
        "colab": {
          "base_uri": "https://localhost:8080/"
        },
        "id": "UzJB6WaWXoUT",
        "outputId": "4ffc2d16-bcba-4db7-fdac-0768705bc779"
      },
      "execution_count": 26,
      "outputs": [
        {
          "output_type": "execute_result",
          "data": {
            "text/plain": [
              "Int64Index([0, 2, 3, 1, 4, 5], dtype='int64')"
            ]
          },
          "metadata": {},
          "execution_count": 26
        }
      ]
    },
    {
      "cell_type": "code",
      "source": [],
      "metadata": {
        "id": "7XSDaYs9ZFKS"
      },
      "execution_count": null,
      "outputs": []
    },
    {
      "cell_type": "code",
      "source": [
        "arr=[\"sadness\",\"joy\",\"love\",\"anger\",\"fear\",\"suprised\"]\n",
        "def predict_sentiment(text):\n",
        "  tw = tokenizer.texts_to_sequences([text])\n",
        "  tw = pad_sequences(tw,maxlen=300)\n",
        "  prediction=model.predict(tw)\n",
        "  #prediction = int(model.predict(tw).round().item())\n",
        "  print(\"Predicted label: \", arr[prediction.argmax()])\n",
        "test_sentence1 = \"I enjoyed my journey on this flight.\"\n",
        "predict_sentiment(test_sentence1)\n",
        "test_sentence2 = \"This is the worst flight experience of my life!\"\n",
        "predict_sentiment(test_sentence2)\n",
        "test_sentence3 = \"I can't believe they did that\"\n",
        "predict_sentiment(test_sentence3)\n",
        "test_sentence4 = \"Deadline is approaching.\"\n",
        "predict_sentiment(test_sentence4)"
      ],
      "metadata": {
        "colab": {
          "base_uri": "https://localhost:8080/"
        },
        "id": "5Ie_JoQfSj-B",
        "outputId": "a5907a1a-ffbf-4db2-fa8d-1b9b17c6894d"
      },
      "execution_count": 28,
      "outputs": [
        {
          "output_type": "stream",
          "name": "stdout",
          "text": [
            "Predicted label:  joy\n",
            "Predicted label:  anger\n",
            "Predicted label:  love\n",
            "Predicted label:  fear\n"
          ]
        }
      ]
    },
    {
      "cell_type": "code",
      "source": [
        "test_sentence5 = \"I am sorry for her loss.\"\n",
        "predict_sentiment(test_sentence5)"
      ],
      "metadata": {
        "colab": {
          "base_uri": "https://localhost:8080/"
        },
        "id": "L5h2Iez_XYk0",
        "outputId": "5c4d1e8c-89d6-47c9-d497-155cff7bbb32"
      },
      "execution_count": 33,
      "outputs": [
        {
          "output_type": "stream",
          "name": "stdout",
          "text": [
            "Predicted label:  sadness\n"
          ]
        }
      ]
    },
    {
      "cell_type": "code",
      "source": [
        "test_sentence6 = \"I could not believe my eyes\"\n",
        "predict_sentiment(test_sentence6)"
      ],
      "metadata": {
        "colab": {
          "base_uri": "https://localhost:8080/"
        },
        "id": "6yVVG0yaZwUh",
        "outputId": "7a78bb78-df1d-4c7b-ca8a-40901b7566ec"
      },
      "execution_count": 45,
      "outputs": [
        {
          "output_type": "stream",
          "name": "stdout",
          "text": [
            "Predicted label:  fear\n"
          ]
        }
      ]
    },
    {
      "cell_type": "code",
      "source": [
        "test_sentence7 = \"She is looking pretty today.\"\n",
        "predict_sentiment(test_sentence7)"
      ],
      "metadata": {
        "colab": {
          "base_uri": "https://localhost:8080/"
        },
        "id": "GiLo6GNFcNxH",
        "outputId": "05b2141b-cd30-4705-d226-373242f299ba"
      },
      "execution_count": 48,
      "outputs": [
        {
          "output_type": "stream",
          "name": "stdout",
          "text": [
            "Predicted label:  joy\n"
          ]
        }
      ]
    },
    {
      "cell_type": "code",
      "source": [],
      "metadata": {
        "id": "yZh72FYOczSf"
      },
      "execution_count": null,
      "outputs": []
    }
  ],
  "metadata": {
    "colab": {
      "provenance": [],
      "collapsed_sections": []
    },
    "kernelspec": {
      "display_name": "Python 3",
      "name": "python3"
    },
    "language_info": {
      "name": "python"
    }
  },
  "nbformat": 4,
  "nbformat_minor": 0
}